{
 "cells": [
  {
   "cell_type": "code",
   "execution_count": 5,
   "metadata": {},
   "outputs": [],
   "source": [
    "import tweepy\n",
    "\n",
    "CONSUMER_KEY = 'gZuzLxydvDo1mtQKok31kTPTv'\n",
    "CONSUMER_SECRET = 'vnIxuyB30WVszAtMVuIEi4mdiZKJFLlxaluavvOauAUBmFVhzq'\n",
    "OAUTH_TOKEN = '923010884833652736-zuBWr5hAMCbrJKeATbFsEhLRpgAY1YC'\n",
    "OAUTH_TOKEN_SECRET = 'y58b2yKk8F8mtrJTqnKB3TFqTLmOutFdIUmQmhSjSp0El'\n",
    "\n",
    "auth = tweepy.OAuthHandler(CONSUMER_KEY, CONSUMER_SECRET)\n",
    "auth.set_access_token(OAUTH_TOKEN, OAUTH_TOKEN_SECRET)\n",
    "api = tweepy.API(auth, wait_on_rate_limit=True, wait_on_rate_limit_notify=True)"
   ]
  },
  {
   "cell_type": "code",
   "execution_count": 4,
   "metadata": {},
   "outputs": [],
   "source": [
    "with open(\"pos.csv\", encoding=\"utf8\") as f:\n",
    "  pos_tweet_ids = f.read()\n",
    "\n",
    "pos_tweet_ids_list = pos_tweet_ids.split('\\n')"
   ]
  },
  {
   "cell_type": "code",
   "execution_count": null,
   "metadata": {},
   "outputs": [],
   "source": [
    "import time\n",
    "from tqdm import tqdm_notebook as tqdm\n",
    "\n",
    "pos_tweets = []\n",
    "\n",
    "with open('pos_tweets.csv', 'a') as h:\n",
    "  for i in tqdm(pos_tweet_ids_list):\n",
    "    id, _, _ = i.split(',')\n",
    "    tweet = api.statuses_lookup([id])\n",
    "    if tweet != []:\n",
    "      pos_tweets.append(tweet[0].text)\n",
    "      h.write(str(tweet[0].text.encode(\"utf-8\")))\n",
    "      h.write('\\n')"
   ]
  },
  {
   "cell_type": "code",
   "execution_count": 9,
   "metadata": {},
   "outputs": [],
   "source": [
    "with open(\"neg.csv\", encoding=\"utf8\") as f:\n",
    "  neg_tweet_ids = f.read()\n",
    "\n",
    "neg_tweet_ids_list = neg_tweet_ids.split('\\n')"
   ]
  },
  {
   "cell_type": "code",
   "execution_count": null,
   "metadata": {},
   "outputs": [],
   "source": [
    "import time\n",
    "from tqdm import tqdm_notebook as tqdm\n",
    "\n",
    "neg_tweets = []\n",
    "\n",
    "with open('neg_tweets.csv', 'a') as h:\n",
    "  for i in tqdm(neg_tweet_ids_list):\n",
    "    id, _, _ = i.split(',')\n",
    "    tweet = api.statuses_lookup([id])\n",
    "    if tweet != []:\n",
    "      neg_tweets.append(tweet[0].text)\n",
    "      h.write(str(tweet[0].text.encode(\"utf-8\")))\n",
    "      h.write('\\n')"
   ]
  },
  {
   "cell_type": "code",
   "execution_count": 12,
   "metadata": {},
   "outputs": [],
   "source": [
    "with open(\"neu.csv\", encoding=\"utf8\") as f:\n",
    "  neu_tweet_ids = f.read()\n",
    "\n",
    "neu_tweet_ids_list = neu_tweet_ids.split('\\n')"
   ]
  },
  {
   "cell_type": "code",
   "execution_count": null,
   "metadata": {},
   "outputs": [],
   "source": [
    "import time\n",
    "from tqdm import tqdm_notebook as tqdm\n",
    "\n",
    "neu_tweets = []\n",
    "\n",
    "with open('neu_tweets.csv', 'a') as h:\n",
    "  for i in tqdm(neu_tweet_ids_list):\n",
    "    id, _, _ = i.split(',')\n",
    "    tweet = api.statuses_lookup([id])\n",
    "    if tweet != []:\n",
    "      neu_tweets.append(tweet[0].text)\n",
    "      h.write(str(tweet[0].text.encode(\"utf-8\")))\n",
    "      h.write('\\n')"
   ]
  },
  {
   "cell_type": "code",
   "execution_count": 23,
   "metadata": {},
   "outputs": [
    {
     "data": {
      "text/plain": [
       "['RT @BoskieLauren: I ❤️ chap cheer',\n",
       " \"RT @ImThatGentleman: Don't dwell in the past; because you've already been there. Just focus on the future since that is where you're headin…\",\n",
       " '@CIMRENEGADE THABK YOU',\n",
       " \"@raidenbeast lmao im not.. this conversation is too great to go to bed (':\",\n",
       " 'RT @5SOS: I met Michael 😁 http://t.co/yQEWwaxwFB']"
      ]
     },
     "execution_count": 23,
     "metadata": {},
     "output_type": "execute_result"
    }
   ],
   "source": [
    "pos_tweets"
   ]
  },
  {
   "cell_type": "code",
   "execution_count": 21,
   "metadata": {},
   "outputs": [
    {
     "data": {
      "text/plain": [
       "'RT @5SOS: I met Michael 😁 http://t.co/yQEWwaxwFB'"
      ]
     },
     "execution_count": 21,
     "metadata": {},
     "output_type": "execute_result"
    }
   ],
   "source": [
    "pos_tweets[4]"
   ]
  },
  {
   "cell_type": "code",
   "execution_count": 22,
   "metadata": {},
   "outputs": [
    {
     "data": {
      "text/plain": [
       "b'RT @5SOS: I met Michael \\xf0\\x9f\\x98\\x81 http://t.co/yQEWwaxwFB'"
      ]
     },
     "execution_count": 22,
     "metadata": {},
     "output_type": "execute_result"
    }
   ],
   "source": [
    "pos_tweets[4].encode(\"utf-8\")"
   ]
  }
 ],
 "metadata": {
  "kernelspec": {
   "display_name": "Python 3",
   "language": "python",
   "name": "python3"
  },
  "language_info": {
   "codemirror_mode": {
    "name": "ipython",
    "version": 3
   },
   "file_extension": ".py",
   "mimetype": "text/x-python",
   "name": "python",
   "nbconvert_exporter": "python",
   "pygments_lexer": "ipython3",
   "version": "3.7.0"
  }
 },
 "nbformat": 4,
 "nbformat_minor": 2
}
