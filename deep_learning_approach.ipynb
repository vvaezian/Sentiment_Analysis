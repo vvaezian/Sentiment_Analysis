{
 "cells": [
  {
   "attachments": {},
   "cell_type": "markdown",
   "metadata": {},
   "source": [
    "# TODO\n",
    "- [ ] Try other tokenizers [The TensorFlow Text library also implements various tokenization strategies, including WordPiece8 (a variant of BPE) https://medium.com/tensorflow/introducing-tf-text-438c8552bd5e]\n",
    "- [ ] Handle Emoticons\n",
    "- [ ] Handle Emojis\n",
    "'🙂'.encode()\n",
    "b'\\xf0\\x9f\\x98\\x82\\xf0\\x9f\\x98\\x82\\xf0\\x9f\\x98\\x82\\xf0\\x9f\\x98\\x82'.decode()"
   ]
  },
  {
   "cell_type": "code",
   "execution_count": 1,
   "metadata": {},
   "outputs": [],
   "source": [
    "import tensorflow as tf\n",
    "import numpy as np \n",
    "import random \n",
    "random.seed(0)\n",
    "tf.random.set_seed(0)\n",
    "np.random.seed(0)\n",
    "tf.keras.utils.set_random_seed(0)"
   ]
  },
  {
   "cell_type": "code",
   "execution_count": 36,
   "metadata": {},
   "outputs": [
    {
     "name": "stderr",
     "output_type": "stream",
     "text": [
      "[nltk_data] Downloading package wordnet to\n",
      "[nltk_data]     C:\\Users\\vahid\\AppData\\Roaming\\nltk_data...\n",
      "[nltk_data]   Package wordnet is already up-to-date!\n"
     ]
    }
   ],
   "source": [
    "with open('./Data/neg_u_13k.csv') as f:\n",
    "    neg_lines = f.readlines()\n",
    "with open('./Data/neu_u_13k.csv') as f:\n",
    "    neu_lines = f.readlines()\n",
    "with open('./Data/pos_u_13k.csv') as f:\n",
    "    pos_lines = f.readlines()\n",
    "\n",
    "neg_tweets = [ i[2:-2] for i in neg_lines ]\n",
    "neu_tweets = [ i[2:-2] for i in neu_lines ]\n",
    "pos_tweets = [ i[2:-2] for i in pos_lines ]\n",
    "\n",
    "tweets = neg_tweets + neu_tweets + pos_tweets\n",
    "\n",
    "emoji_list1 = [':)', ':-)', ':p', ':P', ':-p', ':-P', ':b', ':D', \":')\", \":'-)\", ':3', '<3', ':]', '=)', 'xD', 'XD', '8D', '=D', ':*', ':-*', ':x', ';)', ';-)', '^_^']\n",
    "emoji_list2 = [':(', ':-(', \":'(\",':O', ':o', ':c', ':C', \"D-':\",'D:<','D:','D8','D;','D=','DX', ':\\\\', '=/', '=\\\\', ':X', ':$']\n",
    "\n",
    "# cleanup and transformation\n",
    "import emoji \n",
    "\n",
    "import nltk\n",
    "from nltk.stem import PorterStemmer\n",
    "nltk.download('wordnet')\n",
    "stemmer = PorterStemmer()\n",
    "\n",
    "def handle_emoticon_and_emoji(tweet):\n",
    "\n",
    "    # converting emoticons to happy/sad\n",
    "    for i in emoji_list1:\n",
    "      tweet = tweet.replace(i, ' happy ')\n",
    "    for i in emoji_list2:\n",
    "      tweet = tweet.replace(i, ' sad ')\n",
    "\n",
    "    # converting emojis to text and sepatating them\n",
    "    tokens = tweet.split()\n",
    "    emoji_tokens = []\n",
    "    for index, token in enumerate(tokens):\n",
    "      if token.startswith('\\\\'):\n",
    "        try:\n",
    "          transformed_emoji = emoji.demojize(token.encode().decode('unicode_escape').encode('latin').decode()).replace('::', ': :')\n",
    "          tokens[index] = transformed_emoji\n",
    "        except:\n",
    "          pass\n",
    "\n",
    "    tokens.extend(emoji_tokens)\n",
    "    return tokens\n",
    "\n",
    "\n",
    "for index, tweet in enumerate(tweets):\n",
    "    \n",
    "    tokens = tweet.split()\n",
    "\n",
    "    stemmed_tweet = \" \".join([stemmer.stem(token) for token in tokens])\n",
    "\n",
    "    emoji_transformed_tweet_tokens = handle_emoticon_and_emoji(stemmed_tweet)\n",
    "\n",
    "    tweets[index] = ' '.join([ i for i in emoji_transformed_tweet_tokens if len(i) > 1 and not i.startswith('http') and not i.startswith('@') ])\n",
    "    "
   ]
  },
  {
   "cell_type": "code",
   "execution_count": 39,
   "metadata": {},
   "outputs": [],
   "source": [
    "data = tf.convert_to_tensor(tweets)\n",
    "\n",
    "labels = tf.convert_to_tensor(np.concatenate([np.zeros(len(neg_tweets)) - 1,\n",
    "                                              np.zeros(len(neu_tweets)) ,\n",
    "                                              np.zeros(len(pos_tweets)) + 1,\n",
    "                                             ]) )\n",
    "labels = tf.keras.utils.to_categorical(labels, 3)  # one-hot encoding the labels\n",
    "\n",
    "dataset = tf.data.Dataset.from_tensor_slices((data, labels))\n",
    "dataset = dataset.shuffle(len(dataset), seed=0).batch(32)\n",
    "\n",
    "# Define the split ratios\n",
    "train_ratio, val_ratio, test_ratio = 0.7, 0.15, 0.15 \n",
    "\n",
    "# Split the dataset\n",
    "train_size = int(train_ratio * len(dataset))\n",
    "val_size = int(val_ratio * len(dataset))\n",
    "test_size = int(test_ratio * len(dataset))\n",
    "\n",
    "train_dataset = dataset.take(train_size)\n",
    "val_dataset = dataset.skip(train_size).take(val_size)\n",
    "test_dataset = dataset.skip(train_size + val_size).take(test_size)"
   ]
  },
  {
   "attachments": {},
   "cell_type": "markdown",
   "metadata": {},
   "source": [
    "### Using RNN -> 93% Validation Accuracy"
   ]
  },
  {
   "cell_type": "code",
   "execution_count": 42,
   "metadata": {},
   "outputs": [
    {
     "name": "stdout",
     "output_type": "stream",
     "text": [
      "epoch: 1, Training Accuracy (last-batch): 57.74, Validation Accuracy (epoch): 65.32\n",
      "epoch: 2, Training Accuracy (last-batch): 64.14, Validation Accuracy (epoch): 67.99\n",
      "epoch: 3, Training Accuracy (last-batch): 66.11, Validation Accuracy (epoch): 69.62\n",
      "epoch: 4, Training Accuracy (last-batch): 67.87, Validation Accuracy (epoch): 71.14\n",
      "epoch: 5, Training Accuracy (last-batch): 68.87, Validation Accuracy (epoch): 72.27\n",
      "epoch: 6, Training Accuracy (last-batch): 70.35, Validation Accuracy (epoch): 73.79\n",
      "epoch: 7, Training Accuracy (last-batch): 71.37, Validation Accuracy (epoch): 76.02\n",
      "epoch: 8, Training Accuracy (last-batch): 72.7, Validation Accuracy (epoch): 76.6\n",
      "epoch: 9, Training Accuracy (last-batch): 74.41, Validation Accuracy (epoch): 79.13\n",
      "epoch: 10, Training Accuracy (last-batch): 75.59, Validation Accuracy (epoch): 79.25\n",
      "epoch: 11, Training Accuracy (last-batch): 76.98, Validation Accuracy (epoch): 79.74\n",
      "epoch: 12, Training Accuracy (last-batch): 78.2, Validation Accuracy (epoch): 81.54\n",
      "epoch: 13, Training Accuracy (last-batch): 79.71, Validation Accuracy (epoch): 83.9\n",
      "epoch: 14, Training Accuracy (last-batch): 81.37, Validation Accuracy (epoch): 84.85\n",
      "epoch: 15, Training Accuracy (last-batch): 82.38, Validation Accuracy (epoch): 85.55\n",
      "epoch: 16, Training Accuracy (last-batch): 83.03, Validation Accuracy (epoch): 86.8\n",
      "epoch: 17, Training Accuracy (last-batch): 84.29, Validation Accuracy (epoch): 87.57\n",
      "epoch: 18, Training Accuracy (last-batch): 85.35, Validation Accuracy (epoch): 88.04\n",
      "epoch: 19, Training Accuracy (last-batch): 86.37, Validation Accuracy (epoch): 89.1\n",
      "epoch: 20, Training Accuracy (last-batch): 86.66, Validation Accuracy (epoch): 88.74\n",
      "epoch: 21, Training Accuracy (last-batch): 87.55, Validation Accuracy (epoch): 90.12\n",
      "epoch: 22, Training Accuracy (last-batch): 87.96, Validation Accuracy (epoch): 90.32\n",
      "epoch: 23, Training Accuracy (last-batch): 88.55, Validation Accuracy (epoch): 90.68\n",
      "epoch: 24, Training Accuracy (last-batch): 89.1, Validation Accuracy (epoch): 91.15\n",
      "epoch: 25, Training Accuracy (last-batch): 89.38, Validation Accuracy (epoch): 91.29\n",
      "epoch: 26, Training Accuracy (last-batch): 89.65, Validation Accuracy (epoch): 91.64\n",
      "epoch: 27, Training Accuracy (last-batch): 90.08, Validation Accuracy (epoch): 92.15\n",
      "epoch: 28, Training Accuracy (last-batch): 90.53, Validation Accuracy (epoch): 92.37\n",
      "epoch: 29, Training Accuracy (last-batch): 90.58, Validation Accuracy (epoch): 92.53\n",
      "epoch: 30, Training Accuracy (last-batch): 90.76, Validation Accuracy (epoch): 92.58\n",
      "epoch: 31, Training Accuracy (last-batch): 91.05, Validation Accuracy (epoch): 93.05\n",
      "epoch: 32, Training Accuracy (last-batch): 91.3, Validation Accuracy (epoch): 92.58\n",
      "epoch: 33, Training Accuracy (last-batch): 91.28, Validation Accuracy (epoch): 93.31\n",
      "epoch: 34, Training Accuracy (last-batch): 91.44, Validation Accuracy (epoch): 94.06\n",
      "epoch: 35, Training Accuracy (last-batch): 91.88, Validation Accuracy (epoch): 93.36\n"
     ]
    }
   ],
   "source": [
    "# vocab_size: 1000 -> in 40 epochs would reach 91% val accuracy\n",
    "# vocab_size: 2000 -> in 40 epochs would reach 92% val accuracy\n",
    "# vocab_size: 3000 -> in 40 epochs would reach 93% val accuracy\n",
    "\n",
    "vocab_size = 3000\n",
    "text_vec_layer = tf.keras.layers.TextVectorization(max_tokens=vocab_size)\n",
    "text_vec_layer.adapt(train_dataset.map(lambda tweets, labels: tweets))\n",
    "# text_vec_layer.get_vocabulary()\n",
    "\n",
    "\n",
    "embed_size = 128\n",
    "tf.random.set_seed(42)\n",
    "model = tf.keras.Sequential([\n",
    "    text_vec_layer,\n",
    "    tf.keras.layers.Embedding(vocab_size, embed_size, mask_zero=True),\n",
    "    tf.keras.layers.GRU(128),\n",
    "    tf.keras.layers.Dense(3, activation=\"softmax\")\n",
    "])\n",
    "model.compile(loss=\"categorical_crossentropy\", optimizer=\"nadam\", metrics=[\"accuracy\"])\n",
    "\n",
    "# Custom callback to display accuracy during training\n",
    "class AccuracyCallback(tf.keras.callbacks.Callback):\n",
    "    def on_batch_end(self, batch, logs=None):\n",
    "        print(f\"batch: {batch}, Accuracy: {logs['accuracy']*100}\", end='\\r')\n",
    "    def on_epoch_end(self, epoch, logs=None):\n",
    "        print(f\"epoch: {epoch + 1}, Training Accuracy (last-batch): {round(logs['accuracy']*100, 2)}, Validation Accuracy (epoch): {round(logs['val_accuracy']*100, 2)}\")\n",
    "\n",
    "history = model.fit(train_dataset, validation_data=val_dataset, epochs=35, verbose=0, callbacks=[AccuracyCallback()])  "
   ]
  },
  {
   "cell_type": "code",
   "execution_count": 43,
   "metadata": {},
   "outputs": [
    {
     "name": "stdout",
     "output_type": "stream",
     "text": [
      "epoch: 1, Training Accuracy (last-batch): 91.74, Validation Accuracy (epoch): 93.41\n",
      "epoch: 2, Training Accuracy (last-batch): 91.84, Validation Accuracy (epoch): 93.5\n",
      "epoch: 3, Training Accuracy (last-batch): 91.91, Validation Accuracy (epoch): 93.7\n",
      "epoch: 4, Training Accuracy (last-batch): 92.01, Validation Accuracy (epoch): 93.65\n",
      "epoch: 5, Training Accuracy (last-batch): 92.17, Validation Accuracy (epoch): 93.72\n",
      "epoch: 6, Training Accuracy (last-batch): 92.32, Validation Accuracy (epoch): 93.67\n",
      "epoch: 7, Training Accuracy (last-batch): 92.39, Validation Accuracy (epoch): 93.7\n",
      "epoch: 8, Training Accuracy (last-batch): 92.49, Validation Accuracy (epoch): 94.12\n",
      "epoch: 9, Training Accuracy (last-batch): 92.48, Validation Accuracy (epoch): 93.58\n",
      "epoch: 10, Training Accuracy (last-batch): 92.44, Validation Accuracy (epoch): 93.97\n",
      "epoch: 11, Training Accuracy (last-batch): 92.56, Validation Accuracy (epoch): 93.78\n",
      "epoch: 12, Training Accuracy (last-batch): 92.56, Validation Accuracy (epoch): 93.38\n",
      "epoch: 13, Training Accuracy (last-batch): 92.36, Validation Accuracy (epoch): 93.9\n",
      "epoch: 14, Training Accuracy (last-batch): 92.53, Validation Accuracy (epoch): 93.89\n",
      "epoch: 15, Training Accuracy (last-batch): 92.57, Validation Accuracy (epoch): 93.82\n"
     ]
    }
   ],
   "source": [
    "history = model.fit(train_dataset, validation_data=val_dataset, epochs=15, verbose=0, callbacks=[AccuracyCallback()])  "
   ]
  },
  {
   "attachments": {},
   "cell_type": "markdown",
   "metadata": {},
   "source": [
    "### Using a pretrained language model  -> 96% Validation Accuracy"
   ]
  },
  {
   "cell_type": "code",
   "execution_count": 8,
   "metadata": {},
   "outputs": [
    {
     "name": "stdout",
     "output_type": "stream",
     "text": [
      "WARNING:tensorflow:Please fix your imports. Module tensorflow.python.training.tracking.data_structures has been moved to tensorflow.python.trackable.data_structures. The old module will be deleted in version 2.11.\n",
      "batch: 55, Accuracy: 53.069198131561286\r"
     ]
    },
    {
     "ename": "KeyboardInterrupt",
     "evalue": "",
     "output_type": "error",
     "traceback": [
      "\u001b[1;31m---------------------------------------------------------------------------\u001b[0m",
      "\u001b[1;31mKeyboardInterrupt\u001b[0m                         Traceback (most recent call last)",
      "Cell \u001b[1;32mIn[8], line 11\u001b[0m\n\u001b[0;32m      4\u001b[0m model \u001b[39m=\u001b[39m tf\u001b[39m.\u001b[39mkeras\u001b[39m.\u001b[39mSequential([\n\u001b[0;32m      5\u001b[0m     hub\u001b[39m.\u001b[39mKerasLayer(\u001b[39m\"\u001b[39m\u001b[39mhttps://tfhub.dev/google/universal-sentence-encoder/4\u001b[39m\u001b[39m\"\u001b[39m,\n\u001b[0;32m      6\u001b[0m         trainable\u001b[39m=\u001b[39m\u001b[39mTrue\u001b[39;00m, dtype\u001b[39m=\u001b[39mtf\u001b[39m.\u001b[39mstring, input_shape\u001b[39m=\u001b[39m[]),\n\u001b[0;32m      7\u001b[0m     tf\u001b[39m.\u001b[39mkeras\u001b[39m.\u001b[39mlayers\u001b[39m.\u001b[39mDense(\u001b[39m64\u001b[39m, activation\u001b[39m=\u001b[39m\u001b[39m\"\u001b[39m\u001b[39mrelu\u001b[39m\u001b[39m\"\u001b[39m),\n\u001b[0;32m      8\u001b[0m     tf\u001b[39m.\u001b[39mkeras\u001b[39m.\u001b[39mlayers\u001b[39m.\u001b[39mDense(\u001b[39m3\u001b[39m, activation\u001b[39m=\u001b[39m\u001b[39m\"\u001b[39m\u001b[39msoftmax\u001b[39m\u001b[39m\"\u001b[39m)\n\u001b[0;32m      9\u001b[0m ])\n\u001b[0;32m     10\u001b[0m model\u001b[39m.\u001b[39mcompile(loss\u001b[39m=\u001b[39m\u001b[39m\"\u001b[39m\u001b[39mcategorical_crossentropy\u001b[39m\u001b[39m\"\u001b[39m, optimizer\u001b[39m=\u001b[39m\u001b[39m\"\u001b[39m\u001b[39mnadam\u001b[39m\u001b[39m\"\u001b[39m, metrics\u001b[39m=\u001b[39m[\u001b[39m\"\u001b[39m\u001b[39maccuracy\u001b[39m\u001b[39m\"\u001b[39m])\n\u001b[1;32m---> 11\u001b[0m history \u001b[39m=\u001b[39m model\u001b[39m.\u001b[39;49mfit(train_dataset, validation_data\u001b[39m=\u001b[39;49mval_dataset, epochs\u001b[39m=\u001b[39;49m\u001b[39m50\u001b[39;49m, verbose\u001b[39m=\u001b[39;49m\u001b[39m0\u001b[39;49m, callbacks\u001b[39m=\u001b[39;49m[AccuracyCallback()])  \n",
      "File \u001b[1;32m~\\AppData\\Roaming\\Python\\Python38\\site-packages\\keras\\utils\\traceback_utils.py:65\u001b[0m, in \u001b[0;36mfilter_traceback.<locals>.error_handler\u001b[1;34m(*args, **kwargs)\u001b[0m\n\u001b[0;32m     63\u001b[0m filtered_tb \u001b[39m=\u001b[39m \u001b[39mNone\u001b[39;00m\n\u001b[0;32m     64\u001b[0m \u001b[39mtry\u001b[39;00m:\n\u001b[1;32m---> 65\u001b[0m     \u001b[39mreturn\u001b[39;00m fn(\u001b[39m*\u001b[39;49margs, \u001b[39m*\u001b[39;49m\u001b[39m*\u001b[39;49mkwargs)\n\u001b[0;32m     66\u001b[0m \u001b[39mexcept\u001b[39;00m \u001b[39mException\u001b[39;00m \u001b[39mas\u001b[39;00m e:\n\u001b[0;32m     67\u001b[0m     filtered_tb \u001b[39m=\u001b[39m _process_traceback_frames(e\u001b[39m.\u001b[39m__traceback__)\n",
      "File \u001b[1;32m~\\AppData\\Roaming\\Python\\Python38\\site-packages\\keras\\engine\\training.py:1650\u001b[0m, in \u001b[0;36mModel.fit\u001b[1;34m(self, x, y, batch_size, epochs, verbose, callbacks, validation_split, validation_data, shuffle, class_weight, sample_weight, initial_epoch, steps_per_epoch, validation_steps, validation_batch_size, validation_freq, max_queue_size, workers, use_multiprocessing)\u001b[0m\n\u001b[0;32m   1642\u001b[0m \u001b[39mwith\u001b[39;00m tf\u001b[39m.\u001b[39mprofiler\u001b[39m.\u001b[39mexperimental\u001b[39m.\u001b[39mTrace(\n\u001b[0;32m   1643\u001b[0m     \u001b[39m\"\u001b[39m\u001b[39mtrain\u001b[39m\u001b[39m\"\u001b[39m,\n\u001b[0;32m   1644\u001b[0m     epoch_num\u001b[39m=\u001b[39mepoch,\n\u001b[1;32m   (...)\u001b[0m\n\u001b[0;32m   1647\u001b[0m     _r\u001b[39m=\u001b[39m\u001b[39m1\u001b[39m,\n\u001b[0;32m   1648\u001b[0m ):\n\u001b[0;32m   1649\u001b[0m     callbacks\u001b[39m.\u001b[39mon_train_batch_begin(step)\n\u001b[1;32m-> 1650\u001b[0m     tmp_logs \u001b[39m=\u001b[39m \u001b[39mself\u001b[39;49m\u001b[39m.\u001b[39;49mtrain_function(iterator)\n\u001b[0;32m   1651\u001b[0m     \u001b[39mif\u001b[39;00m data_handler\u001b[39m.\u001b[39mshould_sync:\n\u001b[0;32m   1652\u001b[0m         context\u001b[39m.\u001b[39masync_wait()\n",
      "File \u001b[1;32m~\\AppData\\Roaming\\Python\\Python38\\site-packages\\tensorflow\\python\\util\\traceback_utils.py:150\u001b[0m, in \u001b[0;36mfilter_traceback.<locals>.error_handler\u001b[1;34m(*args, **kwargs)\u001b[0m\n\u001b[0;32m    148\u001b[0m filtered_tb \u001b[39m=\u001b[39m \u001b[39mNone\u001b[39;00m\n\u001b[0;32m    149\u001b[0m \u001b[39mtry\u001b[39;00m:\n\u001b[1;32m--> 150\u001b[0m   \u001b[39mreturn\u001b[39;00m fn(\u001b[39m*\u001b[39;49margs, \u001b[39m*\u001b[39;49m\u001b[39m*\u001b[39;49mkwargs)\n\u001b[0;32m    151\u001b[0m \u001b[39mexcept\u001b[39;00m \u001b[39mException\u001b[39;00m \u001b[39mas\u001b[39;00m e:\n\u001b[0;32m    152\u001b[0m   filtered_tb \u001b[39m=\u001b[39m _process_traceback_frames(e\u001b[39m.\u001b[39m__traceback__)\n",
      "File \u001b[1;32m~\\AppData\\Roaming\\Python\\Python38\\site-packages\\tensorflow\\python\\eager\\polymorphic_function\\polymorphic_function.py:880\u001b[0m, in \u001b[0;36mFunction.__call__\u001b[1;34m(self, *args, **kwds)\u001b[0m\n\u001b[0;32m    877\u001b[0m compiler \u001b[39m=\u001b[39m \u001b[39m\"\u001b[39m\u001b[39mxla\u001b[39m\u001b[39m\"\u001b[39m \u001b[39mif\u001b[39;00m \u001b[39mself\u001b[39m\u001b[39m.\u001b[39m_jit_compile \u001b[39melse\u001b[39;00m \u001b[39m\"\u001b[39m\u001b[39mnonXla\u001b[39m\u001b[39m\"\u001b[39m\n\u001b[0;32m    879\u001b[0m \u001b[39mwith\u001b[39;00m OptionalXlaContext(\u001b[39mself\u001b[39m\u001b[39m.\u001b[39m_jit_compile):\n\u001b[1;32m--> 880\u001b[0m   result \u001b[39m=\u001b[39m \u001b[39mself\u001b[39;49m\u001b[39m.\u001b[39;49m_call(\u001b[39m*\u001b[39;49margs, \u001b[39m*\u001b[39;49m\u001b[39m*\u001b[39;49mkwds)\n\u001b[0;32m    882\u001b[0m new_tracing_count \u001b[39m=\u001b[39m \u001b[39mself\u001b[39m\u001b[39m.\u001b[39mexperimental_get_tracing_count()\n\u001b[0;32m    883\u001b[0m without_tracing \u001b[39m=\u001b[39m (tracing_count \u001b[39m==\u001b[39m new_tracing_count)\n",
      "File \u001b[1;32m~\\AppData\\Roaming\\Python\\Python38\\site-packages\\tensorflow\\python\\eager\\polymorphic_function\\polymorphic_function.py:912\u001b[0m, in \u001b[0;36mFunction._call\u001b[1;34m(self, *args, **kwds)\u001b[0m\n\u001b[0;32m    909\u001b[0m   \u001b[39mself\u001b[39m\u001b[39m.\u001b[39m_lock\u001b[39m.\u001b[39mrelease()\n\u001b[0;32m    910\u001b[0m   \u001b[39m# In this case we have created variables on the first call, so we run the\u001b[39;00m\n\u001b[0;32m    911\u001b[0m   \u001b[39m# defunned version which is guaranteed to never create variables.\u001b[39;00m\n\u001b[1;32m--> 912\u001b[0m   \u001b[39mreturn\u001b[39;00m \u001b[39mself\u001b[39;49m\u001b[39m.\u001b[39;49m_no_variable_creation_fn(\u001b[39m*\u001b[39;49margs, \u001b[39m*\u001b[39;49m\u001b[39m*\u001b[39;49mkwds)  \u001b[39m# pylint: disable=not-callable\u001b[39;00m\n\u001b[0;32m    913\u001b[0m \u001b[39melif\u001b[39;00m \u001b[39mself\u001b[39m\u001b[39m.\u001b[39m_variable_creation_fn \u001b[39mis\u001b[39;00m \u001b[39mnot\u001b[39;00m \u001b[39mNone\u001b[39;00m:\n\u001b[0;32m    914\u001b[0m   \u001b[39m# Release the lock early so that multiple threads can perform the call\u001b[39;00m\n\u001b[0;32m    915\u001b[0m   \u001b[39m# in parallel.\u001b[39;00m\n\u001b[0;32m    916\u001b[0m   \u001b[39mself\u001b[39m\u001b[39m.\u001b[39m_lock\u001b[39m.\u001b[39mrelease()\n",
      "File \u001b[1;32m~\\AppData\\Roaming\\Python\\Python38\\site-packages\\tensorflow\\python\\eager\\polymorphic_function\\tracing_compiler.py:134\u001b[0m, in \u001b[0;36mTracingCompiler.__call__\u001b[1;34m(self, *args, **kwargs)\u001b[0m\n\u001b[0;32m    131\u001b[0m \u001b[39mwith\u001b[39;00m \u001b[39mself\u001b[39m\u001b[39m.\u001b[39m_lock:\n\u001b[0;32m    132\u001b[0m   (concrete_function,\n\u001b[0;32m    133\u001b[0m    filtered_flat_args) \u001b[39m=\u001b[39m \u001b[39mself\u001b[39m\u001b[39m.\u001b[39m_maybe_define_function(args, kwargs)\n\u001b[1;32m--> 134\u001b[0m \u001b[39mreturn\u001b[39;00m concrete_function\u001b[39m.\u001b[39;49m_call_flat(\n\u001b[0;32m    135\u001b[0m     filtered_flat_args, captured_inputs\u001b[39m=\u001b[39;49mconcrete_function\u001b[39m.\u001b[39;49mcaptured_inputs)\n",
      "File \u001b[1;32m~\\AppData\\Roaming\\Python\\Python38\\site-packages\\tensorflow\\python\\eager\\polymorphic_function\\monomorphic_function.py:1745\u001b[0m, in \u001b[0;36mConcreteFunction._call_flat\u001b[1;34m(self, args, captured_inputs, cancellation_manager)\u001b[0m\n\u001b[0;32m   1741\u001b[0m possible_gradient_type \u001b[39m=\u001b[39m gradients_util\u001b[39m.\u001b[39mPossibleTapeGradientTypes(args)\n\u001b[0;32m   1742\u001b[0m \u001b[39mif\u001b[39;00m (possible_gradient_type \u001b[39m==\u001b[39m gradients_util\u001b[39m.\u001b[39mPOSSIBLE_GRADIENT_TYPES_NONE\n\u001b[0;32m   1743\u001b[0m     \u001b[39mand\u001b[39;00m executing_eagerly):\n\u001b[0;32m   1744\u001b[0m   \u001b[39m# No tape is watching; skip to running the function.\u001b[39;00m\n\u001b[1;32m-> 1745\u001b[0m   \u001b[39mreturn\u001b[39;00m \u001b[39mself\u001b[39m\u001b[39m.\u001b[39m_build_call_outputs(\u001b[39mself\u001b[39;49m\u001b[39m.\u001b[39;49m_inference_function\u001b[39m.\u001b[39;49mcall(\n\u001b[0;32m   1746\u001b[0m       ctx, args, cancellation_manager\u001b[39m=\u001b[39;49mcancellation_manager))\n\u001b[0;32m   1747\u001b[0m forward_backward \u001b[39m=\u001b[39m \u001b[39mself\u001b[39m\u001b[39m.\u001b[39m_select_forward_and_backward_functions(\n\u001b[0;32m   1748\u001b[0m     args,\n\u001b[0;32m   1749\u001b[0m     possible_gradient_type,\n\u001b[0;32m   1750\u001b[0m     executing_eagerly)\n\u001b[0;32m   1751\u001b[0m forward_function, args_with_tangents \u001b[39m=\u001b[39m forward_backward\u001b[39m.\u001b[39mforward()\n",
      "File \u001b[1;32m~\\AppData\\Roaming\\Python\\Python38\\site-packages\\tensorflow\\python\\eager\\polymorphic_function\\monomorphic_function.py:378\u001b[0m, in \u001b[0;36m_EagerDefinedFunction.call\u001b[1;34m(self, ctx, args, cancellation_manager)\u001b[0m\n\u001b[0;32m    376\u001b[0m \u001b[39mwith\u001b[39;00m _InterpolateFunctionError(\u001b[39mself\u001b[39m):\n\u001b[0;32m    377\u001b[0m   \u001b[39mif\u001b[39;00m cancellation_manager \u001b[39mis\u001b[39;00m \u001b[39mNone\u001b[39;00m:\n\u001b[1;32m--> 378\u001b[0m     outputs \u001b[39m=\u001b[39m execute\u001b[39m.\u001b[39;49mexecute(\n\u001b[0;32m    379\u001b[0m         \u001b[39mstr\u001b[39;49m(\u001b[39mself\u001b[39;49m\u001b[39m.\u001b[39;49msignature\u001b[39m.\u001b[39;49mname),\n\u001b[0;32m    380\u001b[0m         num_outputs\u001b[39m=\u001b[39;49m\u001b[39mself\u001b[39;49m\u001b[39m.\u001b[39;49m_num_outputs,\n\u001b[0;32m    381\u001b[0m         inputs\u001b[39m=\u001b[39;49margs,\n\u001b[0;32m    382\u001b[0m         attrs\u001b[39m=\u001b[39;49mattrs,\n\u001b[0;32m    383\u001b[0m         ctx\u001b[39m=\u001b[39;49mctx)\n\u001b[0;32m    384\u001b[0m   \u001b[39melse\u001b[39;00m:\n\u001b[0;32m    385\u001b[0m     outputs \u001b[39m=\u001b[39m execute\u001b[39m.\u001b[39mexecute_with_cancellation(\n\u001b[0;32m    386\u001b[0m         \u001b[39mstr\u001b[39m(\u001b[39mself\u001b[39m\u001b[39m.\u001b[39msignature\u001b[39m.\u001b[39mname),\n\u001b[0;32m    387\u001b[0m         num_outputs\u001b[39m=\u001b[39m\u001b[39mself\u001b[39m\u001b[39m.\u001b[39m_num_outputs,\n\u001b[1;32m   (...)\u001b[0m\n\u001b[0;32m    390\u001b[0m         ctx\u001b[39m=\u001b[39mctx,\n\u001b[0;32m    391\u001b[0m         cancellation_manager\u001b[39m=\u001b[39mcancellation_manager)\n",
      "File \u001b[1;32m~\\AppData\\Roaming\\Python\\Python38\\site-packages\\tensorflow\\python\\eager\\execute.py:52\u001b[0m, in \u001b[0;36mquick_execute\u001b[1;34m(op_name, num_outputs, inputs, attrs, ctx, name)\u001b[0m\n\u001b[0;32m     50\u001b[0m \u001b[39mtry\u001b[39;00m:\n\u001b[0;32m     51\u001b[0m   ctx\u001b[39m.\u001b[39mensure_initialized()\n\u001b[1;32m---> 52\u001b[0m   tensors \u001b[39m=\u001b[39m pywrap_tfe\u001b[39m.\u001b[39;49mTFE_Py_Execute(ctx\u001b[39m.\u001b[39;49m_handle, device_name, op_name,\n\u001b[0;32m     53\u001b[0m                                       inputs, attrs, num_outputs)\n\u001b[0;32m     54\u001b[0m \u001b[39mexcept\u001b[39;00m core\u001b[39m.\u001b[39m_NotOkStatusException \u001b[39mas\u001b[39;00m e:\n\u001b[0;32m     55\u001b[0m   \u001b[39mif\u001b[39;00m name \u001b[39mis\u001b[39;00m \u001b[39mnot\u001b[39;00m \u001b[39mNone\u001b[39;00m:\n",
      "\u001b[1;31mKeyboardInterrupt\u001b[0m: "
     ]
    }
   ],
   "source": [
    "import os\n",
    "import tensorflow_hub as hub\n",
    "os.environ[\"TFHUB_CACHE_DIR\"] = \"./tfhub_cache\"\n",
    "model = tf.keras.Sequential([\n",
    "    hub.KerasLayer(\"https://tfhub.dev/google/universal-sentence-encoder/4\",\n",
    "        trainable=True, dtype=tf.string, input_shape=[]),\n",
    "    tf.keras.layers.Dense(64, activation=\"relu\"),\n",
    "    tf.keras.layers.Dense(3, activation=\"softmax\")\n",
    "])\n",
    "model.compile(loss=\"categorical_crossentropy\", optimizer=\"nadam\", metrics=[\"accuracy\"])\n",
    "history = model.fit(train_dataset, validation_data=val_dataset, epochs=5, verbose=0, callbacks=[AccuracyCallback()])  "
   ]
  }
 ],
 "metadata": {
  "kernelspec": {
   "display_name": "Python 3",
   "language": "python",
   "name": "python3"
  },
  "language_info": {
   "codemirror_mode": {
    "name": "ipython",
    "version": 3
   },
   "file_extension": ".py",
   "mimetype": "text/x-python",
   "name": "python",
   "nbconvert_exporter": "python",
   "pygments_lexer": "ipython3",
   "version": "3.8.10"
  },
  "orig_nbformat": 4
 },
 "nbformat": 4,
 "nbformat_minor": 2
}
